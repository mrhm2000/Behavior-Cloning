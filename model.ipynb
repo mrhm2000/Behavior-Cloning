{
 "cells": [
  {
   "cell_type": "code",
   "execution_count": 1,
   "metadata": {},
   "outputs": [
    {
     "name": "stderr",
     "output_type": "stream",
     "text": [
      "Using TensorFlow backend.\n"
     ]
    }
   ],
   "source": [
    "import cv2\n",
    "import csv\n",
    "import numpy as np\n",
    "import sklearn\n",
    "from keras.models import Sequential, Model, load_model\n",
    "from keras.layers import Flatten, Dense, Lambda, Convolution2D, Cropping2D, Dropout\n",
    "from keras.layers.pooling import MaxPooling2D\n",
    "from keras.layers.advanced_activations import ELU\n",
    "import matplotlib.pyplot as plt\n",
    "from keras.optimizers import Adam\n",
    "from sklearn.utils import shuffle\n",
    "from sklearn.model_selection import train_test_split"
   ]
  },
  {
   "cell_type": "code",
   "execution_count": 2,
   "metadata": {},
   "outputs": [],
   "source": [
    "def browseAllImages(dataDir):\n",
    "    \"\"\"\n",
    "    Finds all the images in data set directory\n",
    "    \"\"\"\n",
    "    lines = []\n",
    "    with open(dataDir + '/driving_log.csv') as csvFile:\n",
    "        reader = csv.reader(csvFile)\n",
    "        for line in reader:\n",
    "            lines.append(line)\n",
    "    SumCenter = []\n",
    "    SumLeft = []\n",
    "    SumRight = [] \n",
    "    SumMeasurement = []\n",
    "    centerImg = []\n",
    "    leftImg = []\n",
    "    rightImg = []\n",
    "    measurements = []\n",
    "    for line in lines:\n",
    "        angles=float(line[3])\n",
    "        measurements.append(angles)\n",
    "        centerImg.append(dataDir + '/' + line[0].strip())\n",
    "        leftImg.append(dataDir + '/' + line[1].strip())\n",
    "        rightImg.append(dataDir + '/' + line[2].strip())\n",
    "    SumCenter.extend(centerImg)\n",
    "    SumLeft.extend(leftImg)\n",
    "    SumRight.extend(rightImg)\n",
    "    SumMeasurement.extend(measurements)\n",
    "\n",
    "    return (SumCenter, SumLeft, SumRight, SumMeasurement)"
   ]
  },
  {
   "cell_type": "code",
   "execution_count": 3,
   "metadata": {},
   "outputs": [],
   "source": [
    "def mixingImages(centerImg, leftImg, rightImg, steering, adjustment):\n",
    "    \"\"\"\n",
    "    Combine all images from center, left and right camera. Apply angle adjustment on each left\n",
    "    and right camera\n",
    "    \n",
    "    \"\"\"\n",
    "    #Initialized place holder for image lists\n",
    "    imageList = []\n",
    "        \n",
    "    #Initialized place holder for angle measurement\n",
    "    angles = []\n",
    "    \n",
    "    #Create array of center camera Images\n",
    "    imageList.extend(centerImg)\n",
    "    angles.extend(steering)\n",
    "    \n",
    "    #Create array of Left camera steering. Adjust steering with adjustment (+) plus value\n",
    "    imageList.extend(leftImg)\n",
    "    angles.extend([addangle + adjustment for addangle in steering])\n",
    "    \n",
    "    #Create array of right camera steering. Adjust steering with adjustment (-) minus value \n",
    "    angles.extend([subsangle - adjustment for subsangle in steering])\n",
    "    imageList.extend(rightImg)\n",
    "    \n",
    "    return (imageList, angles)"
   ]
  },
  {
   "cell_type": "code",
   "execution_count": 4,
   "metadata": {},
   "outputs": [],
   "source": [
    "def rand_bright(imageToProcess):\n",
    "    \"\"\"\n",
    "    Retun a random brightness images\n",
    "    \"\"\"\n",
    "    # Convert colorspace to HSY\n",
    "    image = cv2.cvtColor(imageToProcess, cv2.COLOR_RGB2HSV)\n",
    "    \n",
    "    # Generate random number of brightness factor\n",
    "    brightness = .25 + np.random.uniform()\n",
    "    image[:,:,2] = image[:,:,2] * brightness\n",
    "    \n",
    "    # Convert colorspace back to RGB\n",
    "    brightImage = cv2.cvtColor(image, cv2.COLOR_HSV2RGB)\n",
    "    return brightImage\n"
   ]
  },
  {
   "cell_type": "code",
   "execution_count": 5,
   "metadata": {},
   "outputs": [],
   "source": [
    "def generator(sampleData, batch_size=32):\n",
    "    \"\"\"\n",
    "    Generate sample data for fit generator. Data augmented with random brightness and flip.\n",
    "    \"\"\"\n",
    "    #set max data set base of number of batch size\n",
    "    maxData=len(sampleData)-(len(sampleData)%batch_size)\n",
    "    \n",
    "    checkBatchSize=0\n",
    "    \n",
    "    while True: \n",
    "        \n",
    "        #suffle images before batching\n",
    "        sampleData = sklearn.utils.shuffle(sampleData)\n",
    "        \n",
    "        for x in range(0, maxData, batch_size):\n",
    "                      \n",
    "            process_batch = sampleData[x:x+batch_size]\n",
    "                \n",
    "            images = []\n",
    "            angles = []\n",
    "            \n",
    "            for cameraImgDir, steeringAngle in process_batch:\n",
    "\n",
    "                # read image as BGR. Covert to RGB\n",
    "                image = cv2.cvtColor(cv2.imread(cameraImgDir), cv2.COLOR_BGR2RGB)\n",
    "                \n",
    "                # apply random bright\n",
    "                image=rand_bright(image)\n",
    "\n",
    "                # append image and angle on arrays\n",
    "                images.append(image)\n",
    "                angles.append(steeringAngle)\n",
    "                \n",
    "                # apply image flipping and steering angle adjustment\n",
    "                images.append(cv2.flip(image,1))\n",
    "                angles.append(steeringAngle*-1.0)\n",
    " \n",
    "            yield sklearn.utils.shuffle(np.array(images), np.array(angles))"
   ]
  },
  {
   "cell_type": "code",
   "execution_count": 6,
   "metadata": {},
   "outputs": [],
   "source": [
    "def initializedModel():\n",
    "    \"\"\"\n",
    "    Creates a model with the normalized and cropping.\n",
    "    \"\"\"\n",
    "    # Use Sequential\n",
    "    model = Sequential()\n",
    "    # Normalized\n",
    "    model.add(Lambda(lambda x: (x / 255.0) - 0.5, input_shape=(160,320,3)))\n",
    "    \n",
    "    # Crop to remove skies and tress\n",
    "    model.add(Cropping2D(cropping=((50,20), (0,0))))\n",
    "    return model"
   ]
  },
  {
   "cell_type": "code",
   "execution_count": 7,
   "metadata": {},
   "outputs": [],
   "source": [
    "def nVidiaModel():\n",
    "    \"\"\"\n",
    "    Adopted from nVidia model with relu activation\n",
    "    \"\"\"\n",
    "    model = initializedModel()\n",
    "    model.add(Convolution2D(24,5,5, subsample=(2,2), activation='relu'))\n",
    "    model.add(Convolution2D(36,5,5, subsample=(2,2), activation='relu'))\n",
    "    model.add(Convolution2D(48,5,5, subsample=(2,2), activation='relu'))\n",
    "    model.add(Convolution2D(64,3,3, activation='relu'))\n",
    "    model.add(Convolution2D(64,3,3, activation='relu'))\n",
    "    model.add(Flatten())\n",
    "    model.add(Dense(100))\n",
    "    model.add(Dropout(.5)) #add Dropout to nVidia model\n",
    "    model.add(Dense(50))\n",
    "    model.add(Dropout(.2)) #add Dropout to nVidia model\n",
    "    model.add(Dense(10))\n",
    "    model.add(Dense(1))\n",
    "    return model"
   ]
  },
  {
   "cell_type": "code",
   "execution_count": 8,
   "metadata": {},
   "outputs": [
    {
     "name": "stdout",
     "output_type": "stream",
     "text": [
      "Total Images: 24108\n",
      "Total measurements: 24108\n"
     ]
    }
   ],
   "source": [
    "# Reading images locations.\n",
    "#data='external/data' #combined data location\n",
    "data='data/' #provided data location\n",
    "centerImages, leftImages, rightImages, measurements = browseAllImages(data)\n",
    "imageList, SteerAngle = mixingImages(centerImages, leftImages, rightImages, measurements, 0.2)\n",
    "print('Total Images: {}'.format( len(imageList)))\n",
    "print('Total measurements: {}'.format( len(SteerAngle)))"
   ]
  },
  {
   "cell_type": "code",
   "execution_count": 9,
   "metadata": {},
   "outputs": [
    {
     "data": {
      "image/png": "[encoded data removed]",
      "text/plain": [
       "<matplotlib.figure.Figure at 0x7fe2aaa24278>"
      ]
     },
     "metadata": {},
     "output_type": "display_data"
    }
   ],
   "source": [
    "#print a histogram to see which steering angle distribution\n",
    "\n",
    "#Set histogram size\n",
    "plt.figure(figsize=(10,6))\n",
    "\n",
    "#Devine color map theme\n",
    "colorMap = plt.cm.get_cmap('CMRmap')\n",
    "\n",
    "# Plot angle measuement histogram.\n",
    "n, bins, patches = plt.hist(measurements, 25, normed=1, color='blue')\n",
    "bin_centers = 0.5 * (bins[:-1] + bins[1:])\n",
    "plt.title('Steering Angle Distribution')\n",
    "plt.ylabel('Samples x 10K')\n",
    "plt.xlabel('Measurement Angle')\n",
    "\n",
    "# scale values to [0,1]\n",
    "columns = bin_centers - min(bin_centers)\n",
    "columns /= max(columns)\n",
    "\n",
    "for color, patch in zip(columns, patches):\n",
    "    plt.setp(patch, 'facecolor', colorMap(color))\n",
    "plt.show()\n",
    "#plt.savefig('output/histogram.png')"
   ]
  },
  {
   "cell_type": "code",
   "execution_count": 10,
   "metadata": {},
   "outputs": [],
   "source": [
    "# Splitting samples and creating generators.\n",
    "from sklearn.model_selection import train_test_split\n",
    "dataSet = list(zip(imageList, SteerAngle))\n",
    "\n",
    "#Split 20% for validation samples\n",
    "trainDataSet, validDataSet = train_test_split(dataSet, test_size=0.2)"
   ]
  },
  {
   "cell_type": "code",
   "execution_count": 11,
   "metadata": {},
   "outputs": [
    {
     "name": "stdout",
     "output_type": "stream",
     "text": [
      "Train Data Set: 19286\n",
      "Validation Data Set: 4822\n"
     ]
    }
   ],
   "source": [
    "print('Train Data Set: {}'.format(len(trainDataSet)))\n",
    "print('Validation Data Set: {}'.format(len(validDataSet)))"
   ]
  },
  {
   "cell_type": "code",
   "execution_count": 12,
   "metadata": {},
   "outputs": [],
   "source": [
    "#Generate train and validation batch\n",
    "batch=64\n",
    "\n",
    "max_train=len(trainDataSet)-(len(trainDataSet)%batch)\n",
    "max_val=len(validDataSet)-(len(validDataSet)%batch)\n",
    "\n",
    "train_gen = generator(trainDataSet, batch_size=batch)\n",
    "valid_gen = generator(validDataSet, batch_size=batch)"
   ]
  },
  {
   "cell_type": "code",
   "execution_count": 13,
   "metadata": {},
   "outputs": [],
   "source": [
    "# Model creation\n",
    "#model = nVidiaModel1()   #Elu on dense + conv layer\n",
    "#model = nVidiaModel2() #Relu only\n",
    "#model = nVidiaModel3() #Relu & Elu\n",
    "model = nVidiaModel() #Relu on con layer"
   ]
  },
  {
   "cell_type": "code",
   "execution_count": null,
   "metadata": {},
   "outputs": [],
   "source": [
    "#Set model parameter\n",
    "n_of_epoch=2\n",
    "learning_rate = 0.001\n",
    "optimizer = Adam(lr=learning_rate, beta_1=0.9, beta_2=0.999, epsilon=1e-8)"
   ]
  },
  {
   "cell_type": "code",
   "execution_count": null,
   "metadata": {},
   "outputs": [
    {
     "name": "stdout",
     "output_type": "stream",
     "text": [
      "Epoch 1/2\n",
      "17792/19264 [==========================>...] - ETA: 66s - loss: 0.0280"
     ]
    }
   ],
   "source": [
    "# Compiling and training the model\n",
    "\n",
    "model.compile(optimizer=optimizer, loss=\"mse\", )\n",
    "\n",
    "history_object = model.fit_generator(train_gen, samples_per_epoch= \\\n",
    "                 max_train, validation_data=valid_gen, \\\n",
    "                 nb_val_samples=max_val, nb_epoch=n_of_epoch,verbose=1)\n"
   ]
  },
  {
   "cell_type": "code",
   "execution_count": null,
   "metadata": {},
   "outputs": [],
   "source": [
    "model.save('model_train.h5')"
   ]
  },
  {
   "cell_type": "code",
   "execution_count": null,
   "metadata": {},
   "outputs": [],
   "source": [
    "print('Model summary',model.summary())"
   ]
  },
  {
   "cell_type": "code",
   "execution_count": null,
   "metadata": {},
   "outputs": [],
   "source": [
    "#Plot loss graphic\n",
    "plt.plot(history_object.history['loss'])\n",
    "plt.plot(history_object.history['val_loss'])\n",
    "plt.title('Adam, MSE loss, Rate=0.001')\n",
    "plt.ylabel('Mean Square Error Loss')\n",
    "plt.xlabel('Epoch')\n",
    "plt.legend(['Training set', 'Validation set'], loc='upper right')\n",
    "#plt.savefig('output/trainingloss.png')\n",
    "plt.show()"
   ]
  }
 ],
 "metadata": {
  "kernelspec": {
   "display_name": "Python 3",
   "language": "python",
   "name": "python3"
  },
  "language_info": {
   "codemirror_mode": {
    "name": "ipython",
    "version": 3
   },
   "file_extension": ".py",
   "mimetype": "text/x-python",
   "name": "python",
   "nbconvert_exporter": "python",
   "pygments_lexer": "ipython3",
   "version": "3.5.2"
  },
  "widgets": {
   "state": {},
   "version": "1.1.2"
  }
 },
 "nbformat": 4,
 "nbformat_minor": 2
}
